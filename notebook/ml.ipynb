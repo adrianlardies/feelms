{
 "cells": [
  {
   "cell_type": "code",
   "execution_count": 1,
   "metadata": {},
   "outputs": [],
   "source": [
    "%load_ext autoreload\n",
    "%autoreload 2"
   ]
  },
  {
   "cell_type": "code",
   "execution_count": 2,
   "metadata": {},
   "outputs": [],
   "source": [
    "# Import necessary libraries\n",
    "import sys\n",
    "sys.path.append('../lib')  # Import the lib directory to access the functions\n",
    "\n",
    "import ml  # Import the custom functions for machine learning\n",
    "import pandas as pd\n",
    "import warnings\n",
    "from sklearn.model_selection import train_test_split"
   ]
  },
  {
   "cell_type": "code",
   "execution_count": 3,
   "metadata": {},
   "outputs": [],
   "source": [
    "# Display options and warnings\n",
    "pd.set_option('display.max_columns', None)\n",
    "warnings.filterwarnings('ignore')"
   ]
  },
  {
   "cell_type": "code",
   "execution_count": 4,
   "metadata": {},
   "outputs": [],
   "source": [
    "# 1. Load the datasets\n",
    "df_interactions = pd.read_csv('../data/interactions.csv')\n",
    "df_ratings = pd.read_csv('../data/ratings.csv')\n",
    "df_favorites = pd.read_csv('../data/favorites.csv')\n",
    "df_movies = pd.read_csv('../data/imdb_clean.csv', index_col=0)  # 'movie_id' is the index"
   ]
  },
  {
   "cell_type": "code",
   "execution_count": 5,
   "metadata": {},
   "outputs": [],
   "source": [
    "# 2. Reset and preprocess df_movies to have movie_id and avoid overwriting poster\n",
    "df_movies.reset_index(inplace=True)\n",
    "df_movies.rename(columns={'index': 'poster'}, inplace=True)\n",
    "df_movies['movie_id'] = df_movies.index\n",
    "df_movies.rename(columns={'rating': 'movie_rating'}, inplace=True)\n",
    "df_movies = df_movies[['movie_id', 'poster', 'title', 'year', 'duration', 'genre', 'movie_rating', 'director', 'cast', 'description', 'emotions']]\n",
    "df_movies.set_index('movie_id', inplace=True)"
   ]
  },
  {
   "cell_type": "code",
   "execution_count": 6,
   "metadata": {},
   "outputs": [],
   "source": [
    "# 3. Prepare the data for collaborative filtering\n",
    "df_user_movie = ml.preprocess_data(df_interactions, df_ratings, df_favorites, df_movies)"
   ]
  },
  {
   "cell_type": "code",
   "execution_count": 7,
   "metadata": {},
   "outputs": [
    {
     "name": "stdout",
     "output_type": "stream",
     "text": [
      "Evaluating RMSE, MAE of algorithm SVD on 5 split(s).\n",
      "\n",
      "                  Fold 1  Fold 2  Fold 3  Fold 4  Fold 5  Mean    Std     \n",
      "RMSE (testset)    2.6536  2.4846  2.3316  2.3601  2.6227  2.4905  0.1314  \n",
      "MAE (testset)     2.1458  2.0579  1.8662  1.9538  2.1558  2.0359  0.1118  \n",
      "Fit time          0.05    0.04    0.03    0.03    0.04    0.04    0.01    \n",
      "Test time         0.00    0.00    0.00    0.00    0.00    0.00    0.00    \n",
      "SVD Model Results:\n",
      "{'test_rmse': array([2.65364129, 2.48456596, 2.33159783, 2.3601265 , 2.62268275]), 'test_mae': array([2.14575383, 2.05785036, 1.86621032, 1.95379829, 2.15580671]), 'fit_time': (0.04588913917541504, 0.04399895668029785, 0.03099846839904785, 0.028412818908691406, 0.04300880432128906), 'test_time': (0.004002094268798828, 0.0029973983764648438, 0.0020008087158203125, 0.0030028820037841797, 0.00499415397644043)}\n"
     ]
    }
   ],
   "source": [
    "# 4. Train the SVD collaborative filtering model\n",
    "svd_model, svd_results = ml.train_svd_model(df_user_movie)\n",
    "print(\"SVD Model Results:\")\n",
    "print(svd_results)"
   ]
  },
  {
   "cell_type": "code",
   "execution_count": 8,
   "metadata": {},
   "outputs": [
    {
     "name": "stdout",
     "output_type": "stream",
     "text": [
      "Evaluating RMSE, MAE of algorithm SVD on 5 split(s).\n",
      "\n",
      "                  Fold 1  Fold 2  Fold 3  Fold 4  Fold 5  Mean    Std     \n",
      "RMSE (testset)    1.5826  1.6507  1.6778  1.5152  1.6235  1.6100  0.0569  \n",
      "MAE (testset)     1.3416  1.4099  1.4208  1.2988  1.3811  1.3705  0.0451  \n",
      "Fit time          0.02    0.01    0.04    0.06    0.06    0.04    0.02    \n",
      "Test time         0.00    0.00    0.00    0.00    0.00    0.00    0.00    \n",
      "SVD Model Results:\n",
      "{'test_rmse': array([1.58260688, 1.65072175, 1.67784841, 1.51516518, 1.62346385]), 'test_mae': array([1.3416173 , 1.40990175, 1.42081027, 1.29881262, 1.38114002]), 'fit_time': (0.017239809036254883, 0.011998414993286133, 0.04200172424316406, 0.06399846076965332, 0.06290888786315918), 'test_time': (0.001996278762817383, 0.002002716064453125, 0.002007722854614258, 0.001998424530029297, 0.001997709274291992)}\n"
     ]
    }
   ],
   "source": [
    "# 3.1. Optional: Filter extreme ratings\n",
    "df_filtered = df_user_movie[(df_user_movie['rating'] > 2) & (df_user_movie['rating'] < 9)]\n",
    "\n",
    "# 4. Train the SVD collaborative filtering model with filtered data\n",
    "svd_model, svd_results = ml.train_svd_model(df_filtered)\n",
    "print(\"SVD Model Results:\")\n",
    "print(svd_results)\n"
   ]
  },
  {
   "cell_type": "code",
   "execution_count": 9,
   "metadata": {},
   "outputs": [],
   "source": [
    "# 6. Evaluate the RandomForest model (regression example)\n",
    "# In this step, we will use the original data without SMOTE\n",
    "X = df_user_movie[['duration', 'rating']].fillna(0)  # Features used in training\n",
    "y = df_user_movie['is_favorite']  # Target (whether it is marked as favorite)"
   ]
  },
  {
   "cell_type": "code",
   "execution_count": 11,
   "metadata": {},
   "outputs": [
    {
     "name": "stdout",
     "output_type": "stream",
     "text": [
      "RandomForest Results - Accuracy: 0.9750025199072674, Precision: 1.0, Recall: 0.5059760956175299, F1: 0.671957671957672\n"
     ]
    }
   ],
   "source": [
    "# 5. Train RandomForest to classify whether a movie will be marked as favorite\n",
    "rf_model, accuracy, precision, recall, f1, X_test, y_test = ml.train_random_forest(df_user_movie)  # Now returns X_test, y_test\n",
    "print(f\"RandomForest Results - Accuracy: {accuracy}, Precision: {precision}, Recall: {recall}, F1: {f1}\")"
   ]
  },
  {
   "cell_type": "code",
   "execution_count": 12,
   "metadata": {},
   "outputs": [
    {
     "name": "stdout",
     "output_type": "stream",
     "text": [
      "Updated Classification Metrics - Accuracy: 0.9750025199072674, Precision: 1.0, Recall: 0.5059760956175299, F1: 0.671957671957672\n"
     ]
    }
   ],
   "source": [
    "# 6. Re-evaluate classification metrics on the test set\n",
    "y_pred = rf_model.predict(X_test)\n",
    "accuracy, precision, recall, f1 = ml.evaluate_classification_model(y_test, y_pred)\n",
    "print(f\"Updated Classification Metrics - Accuracy: {accuracy}, Precision: {precision}, Recall: {recall}, F1: {f1}\")"
   ]
  },
  {
   "cell_type": "code",
   "execution_count": 13,
   "metadata": {},
   "outputs": [
    {
     "name": "stdout",
     "output_type": "stream",
     "text": [
      "Confusion Matrix:\n",
      "[[9419    0]\n",
      " [ 248  254]]\n"
     ]
    }
   ],
   "source": [
    "# 7. Generate confusion matrix for classification\n",
    "y_pred = rf_model.predict(X_test)\n",
    "cm = ml.evaluate_classification(y_test, y_pred)\n",
    "print(\"Confusion Matrix:\")\n",
    "print(cm)"
   ]
  },
  {
   "cell_type": "code",
   "execution_count": 14,
   "metadata": {},
   "outputs": [],
   "source": [
    "import pickle\n",
    "\n",
    "# SVD model trained\n",
    "with open('svd_model.pkl', 'wb') as file:\n",
    "    pickle.dump(svd_model, file)\n",
    "\n",
    "# RandomForest model trained\n",
    "with open('rf_model.pkl', 'wb') as file:\n",
    "    pickle.dump(rf_model, file)"
   ]
  }
 ],
 "metadata": {
  "kernelspec": {
   "display_name": "final_project",
   "language": "python",
   "name": "python3"
  },
  "language_info": {
   "codemirror_mode": {
    "name": "ipython",
    "version": 3
   },
   "file_extension": ".py",
   "mimetype": "text/x-python",
   "name": "python",
   "nbconvert_exporter": "python",
   "pygments_lexer": "ipython3",
   "version": "3.12.7"
  }
 },
 "nbformat": 4,
 "nbformat_minor": 2
}
