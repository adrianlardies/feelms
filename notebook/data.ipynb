{
 "cells": [
  {
   "cell_type": "code",
   "execution_count": 3,
   "metadata": {},
   "outputs": [],
   "source": [
    "%load_ext autoreload\n",
    "%autoreload 2"
   ]
  },
  {
   "cell_type": "code",
   "execution_count": 1,
   "metadata": {},
   "outputs": [],
   "source": [
    "import sys\n",
    "sys.path.append('../lib')  # Import the lib directory to access the functions\n",
    "\n",
    "import data_generation as dg  # Importing the functions\n",
    "import pandas as pd\n",
    "\n",
    "# Load the movie dataset\n",
    "df_movies = pd.read_csv('../data/imdb_clean.csv')  # Ensure the CSV file is available\n",
    "df_movies.index = df_movies.index + 1  # Ensure the index starts at 1 to simulate movie_id\n",
    "\n",
    "# Create a DataFrame of users with usernames and passwords\n",
    "num_users = 1000\n",
    "df_users = dg.generate_users(num_users)\n",
    "\n",
    "# Define available emotions\n",
    "emotions = ['Happy', 'Sad', 'Excited', 'Relaxed', 'Scared', 'Inspired', 'Sweet']\n",
    "\n",
    "# Classify users into active and less active\n",
    "active_users, less_active_users = dg.classify_users(df_users)\n",
    "\n",
    "# Generate interactions\n",
    "df_interactions = dg.generate_interactions(50000, df_movies, df_users, active_users, less_active_users, emotions)\n",
    "\n",
    "# Generate favorites (30% of the viewed movies)\n",
    "df_favorites = dg.generate_favorites(df_interactions)\n",
    "\n",
    "# Generate ratings (50% of the favorite movies)\n",
    "df_ratings = dg.generate_ratings(df_favorites)\n",
    "\n",
    "# Save the generated data in CSV files\n",
    "df_users.to_csv('../data/users.csv', index=False)\n",
    "df_interactions.to_csv('../data/interactions.csv', index=False)\n",
    "df_favorites.to_csv('../data/favorites.csv', index=False)\n",
    "df_ratings.to_csv('../data/ratings.csv', index=False)\n",
    "\n",
    "# MySQL connection\n",
    "conn, cursor = dg.connect_to_mysql()\n",
    "\n",
    "# Insert the generated data into MySQL\n",
    "dg.insert_users(df_users, conn, cursor)\n",
    "dg.insert_interactions(df_interactions, conn, cursor)\n",
    "dg.insert_favorites(df_favorites, conn, cursor)\n",
    "dg.insert_ratings(df_ratings, conn, cursor)\n",
    "\n",
    "# Close the MySQL connection\n",
    "conn.close()"
   ]
  }
 ],
 "metadata": {
  "kernelspec": {
   "display_name": "final_project",
   "language": "python",
   "name": "python3"
  },
  "language_info": {
   "codemirror_mode": {
    "name": "ipython",
    "version": 3
   },
   "file_extension": ".py",
   "mimetype": "text/x-python",
   "name": "python",
   "nbconvert_exporter": "python",
   "pygments_lexer": "ipython3",
   "version": "3.12.7"
  }
 },
 "nbformat": 4,
 "nbformat_minor": 2
}
